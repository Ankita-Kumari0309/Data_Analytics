{
 "cells": [
  {
   "cell_type": "code",
   "execution_count": null,
   "id": "6fc773a1-c860-426a-80a5-f906d10ba281",
   "metadata": {},
   "outputs": [],
   "source": []
  },
  {
   "cell_type": "code",
   "execution_count": null,
   "id": "794f7bb3-e524-416a-9f01-83c68317c05a",
   "metadata": {},
   "outputs": [],
   "source": [
    "import pandas as pd\n",
    "import joblib"
   ]
  },
  {
   "cell_type": "code",
   "execution_count": null,
   "id": "2aac87e2-e5a4-4366-8aa7-e0a7254ba826",
   "metadata": {},
   "outputs": [],
   "source": [
    "# Load test data\n",
    "test_df = pd.read_csv(\"C:/Users/ANKITA UPADHAYAY/Downloads/hacktest.csv\")"
   ]
  },
  {
   "cell_type": "code",
   "execution_count": null,
   "id": "02467256-f16e-4ea0-80c3-c3bac87995dd",
   "metadata": {},
   "outputs": [],
   "source": [
    "# Load saved models and encoders\n",
    "model = joblib.load('logistic_model.pkl')\n",
    "scaler = joblib.load('scaler.pkl')\n",
    "poly = joblib.load('poly.pkl')\n",
    "pca = joblib.load('pca.pkl')\n",
    "le = joblib.load('label_encoder.pkl')"
   ]
  },
  {
   "cell_type": "code",
   "execution_count": null,
   "id": "1e723675-2993-4eda-ac17-0f43444bbbc5",
   "metadata": {},
   "outputs": [],
   "source": [
    "# NDVI columns\n",
    "ndvi_cols = [col for col in test_df.columns if col.endswith('_N')]"
   ]
  },
  {
   "cell_type": "code",
   "execution_count": null,
   "id": "4f053dc7-5db1-4753-9fc1-a69e69ceb60b",
   "metadata": {},
   "outputs": [],
   "source": [
    "# Interpolate and smooth NDVI values\n",
    "test_df[ndvi_cols] = test_df[ndvi_cols].interpolate(method='linear', axis=1, limit_direction='both')\n",
    "test_df[ndvi_cols] = test_df[ndvi_cols].T.rolling(window=3, min_periods=1).mean().T"
   ]
  },
  {
   "cell_type": "code",
   "execution_count": null,
   "id": "ac286c22-92fb-43fa-a0f8-df02429b8ae1",
   "metadata": {},
   "outputs": [],
   "source": [
    "# Add same features\n",
    "test_df['ndvi_mean'] = test_df[ndvi_cols].mean(axis=1)\n",
    "test_df['ndvi_std'] = test_df[ndvi_cols].std(axis=1)\n",
    "test_df['ndvi_max'] = test_df[ndvi_cols].max(axis=1)\n",
    "test_df['ndvi_min'] = test_df[ndvi_cols].min(axis=1)\n",
    "test_df['ndvi_range'] = test_df['ndvi_max'] - test_df['ndvi_min']\n",
    "test_df['ndvi_skew'] = test_df[ndvi_cols].skew(axis=1)\n",
    "test_df['ndvi_kurtosis'] = test_df[ndvi_cols].kurtosis(axis=1)"
   ]
  },
  {
   "cell_type": "code",
   "execution_count": null,
   "id": "21ea3ecf-bdd9-4903-8656-da9a0d72cdab",
   "metadata": {},
   "outputs": [],
   "source": [
    "# Save IDs for submission\n",
    "test_ids = test_df['ID']\n",
    "X_test = test_df.drop(columns=['ID'])"
   ]
  },
  {
   "cell_type": "code",
   "execution_count": null,
   "id": "5ede2070-d829-4207-af0f-b3478367d39c",
   "metadata": {},
   "outputs": [],
   "source": [
    "# Apply scaling, polynomial transform, PCA\n",
    "X_test_scaled = scaler.transform(X_test)\n",
    "X_test_poly = poly.transform(X_test_scaled)\n",
    "X_test_pca = pca.transform(X_test_poly)"
   ]
  },
  {
   "cell_type": "code",
   "execution_count": null,
   "id": "8134b23a-20a9-4e61-8fa8-13b0fe02fef8",
   "metadata": {},
   "outputs": [],
   "source": [
    "# Predict\n",
    "preds_encoded = model.predict(X_test_pca)\n",
    "preds = le.inverse_transform(preds_encoded)\n"
   ]
  },
  {
   "cell_type": "code",
   "execution_count": null,
   "id": "b4f8cc82-74d9-4aef-ad23-5755a1f4e2c7",
   "metadata": {},
   "outputs": [],
   "source": [
    "# Submission file\n",
    "submission = pd.DataFrame({'ID': test_ids, 'class': preds})\n",
    "submission.to_csv(\"submission5_logistic_ndvi.csv\", index=False)\n",
    "print(\"✅ Submission file 'submission5_logistic_ndvi.csv' saved successfully.\")"
   ]
  },
  {
   "cell_type": "code",
   "execution_count": null,
   "id": "7113488f-5581-4bcd-9e16-7b0a4ed8dac3",
   "metadata": {},
   "outputs": [],
   "source": []
  },
  {
   "cell_type": "code",
   "execution_count": null,
   "id": "16d5ea2d-f4cf-4ade-a1f1-59998092d4ba",
   "metadata": {},
   "outputs": [],
   "source": []
  }
 ],
 "metadata": {
  "kernelspec": {
   "display_name": "Python 3 (ipykernel)",
   "language": "python",
   "name": "python3"
  },
  "language_info": {
   "codemirror_mode": {
    "name": "ipython",
    "version": 3
   },
   "file_extension": ".py",
   "mimetype": "text/x-python",
   "name": "python",
   "nbconvert_exporter": "python",
   "pygments_lexer": "ipython3",
   "version": "3.12.4"
  }
 },
 "nbformat": 4,
 "nbformat_minor": 5
}
